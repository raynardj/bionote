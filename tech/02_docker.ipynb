{
 "cells": [
  {
   "cell_type": "markdown",
   "metadata": {},
   "source": [
    "# Docker\n",
    "\n",
    "* This [video](https://www.youtube.com/watch?v=YFl2mCHdv24) is short but surprisingly educative"
   ]
  },
  {
   "cell_type": "markdown",
   "metadata": {},
   "source": [
    "## Microservices\n",
    "\n",
    "> apps and microservices are just abunch of bin/libs\n",
    "\n",
    "We can build things with agility, then refactory it later\n",
    "\n",
    "* Decoupleble\n",
    "* Expandable\n",
    "* Segregation of tasks"
   ]
  },
  {
   "cell_type": "markdown",
   "metadata": {},
   "source": [
    "## Terms\n",
    "* Dockerfile\n",
    "* Image\n",
    "* Container\n",
    "\n",
    "#### Relations\n",
    "* file ==build==> image\n",
    "```shell\n",
    "docker build -t [image name] [Docker file location]\n",
    "```\n",
    "* image ==run==> container\n",
    "```shell\n",
    "docker run [arguments] [image name ][command]\n",
    "```"
   ]
  },
  {
   "cell_type": "markdown",
   "metadata": {},
   "source": [
    "## Brilliant features about docker\n",
    "* build once, run every where\n",
    "* layer by layer\n",
    "* share resource"
   ]
  },
  {
   "cell_type": "markdown",
   "metadata": {},
   "source": [
    "## Example\n",
    "\n",
    "* a tiny app\n",
    "\n",
    "### Excercise\n",
    "* try superset\n",
    "* edit & refresh"
   ]
  }
 ],
 "metadata": {
  "kernelspec": {
   "display_name": "Python 3",
   "language": "python",
   "name": "python3"
  },
  "language_info": {
   "codemirror_mode": {
    "name": "ipython",
    "version": 3
   },
   "file_extension": ".py",
   "mimetype": "text/x-python",
   "name": "python",
   "nbconvert_exporter": "python",
   "pygments_lexer": "ipython3",
   "version": "3.7.4"
  }
 },
 "nbformat": 4,
 "nbformat_minor": 2
}
