{
 "cells": [
  {
   "cell_type": "markdown",
   "metadata": {},
   "source": [
    "# Linux"
   ]
  },
  {
   "cell_type": "markdown",
   "metadata": {},
   "source": [
    "* Understanding [file system naming](https://www.youtube.com/watch?v=HbgzrKJvDRw&t=751s)\n",
    "\n",
    "* My personal favourite intro course channel: [tutorial linux](https://www.youtube.com/watch?v=bju_FdCo42w&list=PLtK75qxsQaMLZSo7KL-PmiRarU7hrpnwK), around 10 min each video, 55 videos. From very basic stuff to hacker level sys-admin, in high verbose explaination. You don't have to watch all of them, around 60%+ of the content is unknown to most coding veterans. And you can watch on your commute, other niche time."
   ]
  },
  {
   "cell_type": "markdown",
   "metadata": {},
   "source": [
    "## Basics\n",
    "```\n",
    "cd cp cat ls rm mkdir ln exit history ps su wget kill\n",
    "```"
   ]
  },
  {
   "cell_type": "markdown",
   "metadata": {},
   "source": [
    "## Combinations\n",
    "\n",
    "```\n",
    ">\n",
    "|\n",
    "grep\n",
    "```"
   ]
  },
  {
   "cell_type": "markdown",
   "metadata": {},
   "source": [
    "## Installation\n",
    "* linux \n",
    "```\n",
    "yum apt\n",
    "```\n",
    "\n",
    "* mac\n",
    "```\n",
    "brew easyinstall\n",
    "```"
   ]
  },
  {
   "cell_type": "markdown",
   "metadata": {},
   "source": [
    "## Auth management\n",
    "```\n",
    "sudo chown chmod\n",
    "```"
   ]
  },
  {
   "cell_type": "markdown",
   "metadata": {},
   "source": [
    "## Editor\n",
    "\n",
    "Interactive vim [tutorial](https://www.openvim.com/)\n",
    "```\n",
    "vim nano\n",
    "```"
   ]
  },
  {
   "cell_type": "markdown",
   "metadata": {},
   "source": [
    "## Working remotely\n",
    "```\n",
    "ssh scp\n",
    "```"
   ]
  },
  {
   "cell_type": "markdown",
   "metadata": {},
   "source": [
    "## Automation\n",
    "* .sh file\n",
    "* make your script into command"
   ]
  },
  {
   "cell_type": "markdown",
   "metadata": {},
   "source": [
    "## Excercise\n",
    "\n",
    "* Print a greeting text when user login to console(difficulty: ☆☆)\n",
    "* Writing a \n",
    "* Deploy a wordpress service (difficulty: ☆☆☆☆☆, around 16+ hours for newbies)\n",
    "    * [Ubuntu + wordpress](https://ubuntu.com/tutorials/install-and-configure-wordpress#1-overview)\n",
    "    * Digital ocean [tutorial](https://www.digitalocean.com/community/tutorials/how-to-install-wordpress-with-lamp-on-ubuntu-18-04)\n",
    "    \n",
    "    \n",
    "## Options for affordable linux hosting\n",
    "* [vultr](https://www.vultr.com/) \n",
    "* [linode](https://www.linode.com/)\n",
    "* [digital ocean](https://www.digitalocean.com/)"
   ]
  }
 ],
 "metadata": {
  "kernelspec": {
   "display_name": "Python 3",
   "language": "python",
   "name": "python3"
  },
  "language_info": {
   "codemirror_mode": {
    "name": "ipython",
    "version": 3
   },
   "file_extension": ".py",
   "mimetype": "text/x-python",
   "name": "python",
   "nbconvert_exporter": "python",
   "pygments_lexer": "ipython3",
   "version": "3.7.4"
  }
 },
 "nbformat": 4,
 "nbformat_minor": 2
}
