{
 "cells": [
  {
   "cell_type": "markdown",
   "metadata": {},
   "source": [
    "# Sequencing Basic\n",
    "\n",
    ">by Li Yingqi\n",
    "\n",
    "## 1st gen sequencing\n",
    "* comfirm measure\n",
    "* Very accurate\n",
    "* reads: 800-1000 bp\n",
    "* targeted at small area\n",
    "\n",
    "## 2nd gen sequencing\n",
    "* reads: 25-700 bp (base pair)\n",
    "* acc:90%+\n",
    "* Tech：\n",
    "    * Illumina\n",
    "    * Ion Torrent\n",
    "    \n",
    "#### Extraction\n",
    "#### Fragmentation\n",
    "* around 100 bp\n",
    "* + primer: start point of replication\n",
    "* + adapter: barcode\n",
    "* applification, bridge \n",
    "\n",
    "## 3rd gen sequencing\n",
    "single molecure\n",
    "1000+ bp, not very accurate\n",
    "\n",
    "## Terms\n",
    "* Exons/ whole exone\n",
    "* Single end vs pair end\n",
    "* Sequence coverage (average)\n",
    "* Sequence depth (total)\n",
    "\n",
    "## Genomicare\n",
    "* Panel\n",
    "amplicon PCR based\n",
    "amplification of targeted area\n",
    "* WES\n",
    "Illumina\n"
   ]
  },
  {
   "cell_type": "markdown",
   "metadata": {},
   "source": [
    "## References"
   ]
  },
  {
   "cell_type": "markdown",
   "metadata": {},
   "source": [
    "* [Integrative genomics viewer](https://software.broadinstitute.org/software/igv/download)\n",
    "* [UCSC genome browser](https://genome.ucsc.edu/)\n",
    "* [bwa aligner](https://github.com/lh3/bwa)"
   ]
  }
 ],
 "metadata": {
  "kernelspec": {
   "display_name": "Python 3",
   "language": "python",
   "name": "python3"
  },
  "language_info": {
   "codemirror_mode": {
    "name": "ipython",
    "version": 3
   },
   "file_extension": ".py",
   "mimetype": "text/x-python",
   "name": "python",
   "nbconvert_exporter": "python",
   "pygments_lexer": "ipython3",
   "version": "3.7.4"
  }
 },
 "nbformat": 4,
 "nbformat_minor": 2
}
