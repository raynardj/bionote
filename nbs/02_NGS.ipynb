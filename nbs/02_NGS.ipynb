{
 "cells": [
  {
   "cell_type": "markdown",
   "metadata": {},
   "source": [
    "# NGS pipeline\n",
    "> From sequencing reads to analysis"
   ]
  },
  {
   "cell_type": "markdown",
   "metadata": {},
   "source": [
    " from [session 2 PPT](ppt/session_02.pptx)"
   ]
  },
  {
   "attachments": {},
   "cell_type": "markdown",
   "metadata": {},
   "source": [
    "![image.png](img/02_001.png)"
   ]
  },
  {
   "attachments": {},
   "cell_type": "markdown",
   "metadata": {},
   "source": [
    "* **Sequencing**: generation of the files with the short sequence reads \n",
    "* **Quality control**: assessment of read quality and removal of poor quality and adaptor sequences at ends of reads \n",
    "* **Read alignment**: Mapping of reads to a reference genome \n",
    "* **Transcript assembly & quantitation**: assignment of reads to transcripts and/or genes; quantitation of reads for each transcript/gene \n",
    "* **Differential expression**: comparison of transcript/gene quantities in two different conditions \n",
    "\n",
    "#### The so-called “Tuxedo Package”"
   ]
  },
  {
   "cell_type": "markdown",
   "metadata": {},
   "source": [
    "## Getting Started\n",
    "\n",
    "* adrenal2.fastq(RNAseq/DNAseq reads) +adrenal_assembled_transcripts.gtf (refrence genome)\n",
    "* adrenal_alignment.sam (or BAM alignment file)\n",
    "* adrenal_alignment.bai (index file)\n",
    "* adrenal_splice_junctions.bed (describing splice junction)\n",
    "* adrenal_gene_expression.tabular \n",
    "* adrenal_featureCounts.txt \n"
   ]
  },
  {
   "attachments": {},
   "cell_type": "markdown",
   "metadata": {},
   "source": [
    "## File format: FastQ\n",
    "Human readable text-based files that contain the short reads output by the sequencer \n",
    "\n",
    "![image.png](img/02_002.png)"
   ]
  },
  {
   "attachments": {},
   "cell_type": "markdown",
   "metadata": {},
   "source": [
    "### QC Encoding\n",
    "[QC encoding](https://support.illumina.com/help/BaseSpace_OLH_009008/Content/Source/Informatics/BS/QualityScoreEncoding_swBS.htm) is tightly compacted using ASCII.\n",
    "\n",
    "Phred quality scores: Pr(base call error) \n",
    "Q+33=ASCII base \n",
    "\n",
    "$Q = -10 log_{10}P$\n",
    "\n",
    "![image.png](img/02_003.png)"
   ]
  },
  {
   "cell_type": "code",
   "execution_count": 22,
   "metadata": {},
   "outputs": [
    {
     "name": "stdout",
     "output_type": "stream",
     "text": [
      "Q score: 36\n",
      "ASCII: E\n"
     ]
    }
   ],
   "source": [
    "import numpy as np\n",
    "\n",
    "def ASCII(prob):\n",
    "    Q = int(np.log10(prob)*(-10))\n",
    "    print(f\"Q score: {Q}\")\n",
    "    A = chr(Q+33)\n",
    "    print(f\"ASCII: {A}\")\n",
    "\n",
    "ASCII(0.0002)"
   ]
  },
  {
   "attachments": {},
   "cell_type": "markdown",
   "metadata": {},
   "source": [
    "## File: SAM/BAM\n",
    "\n",
    "Standard format for compactly representing alignment data \n",
    "\n",
    "* SAM: Sequence Alignment/Map\n",
    "* BAM: binary version of a SAM file.\n",
    "\n",
    "Some of the key information in the alignment portion of a SAM file:\n",
    "* Column 1: Name of read\n",
    "* Column 3: Name of reference sequence where the read aligned\n",
    "* Column 4: Leftmost position in the reference sequence that aligns to the read\n",
    "* Column 7: Name of reference sequence where the mate (if paired end) or next read aligns \n",
    "\n",
    "![image.png](img/02_004.png)"
   ]
  },
  {
   "attachments": {},
   "cell_type": "markdown",
   "metadata": {},
   "source": [
    "## View SAM/BAM in IGV\n",
    "\n",
    "* [Download IGV](https://software.broadinstitute.org/software/igv/download)\n",
    "\n",
    "![image.png](img/02_005.png)"
   ]
  },
  {
   "attachments": {},
   "cell_type": "markdown",
   "metadata": {},
   "source": [
    "![image.png](img/02_006.png)"
   ]
  },
  {
   "cell_type": "markdown",
   "metadata": {},
   "source": [
    "## BED"
   ]
  },
  {
   "attachments": {},
   "cell_type": "markdown",
   "metadata": {},
   "source": [
    "Track annotation ([Genome Browser](https://genome.ucsc.edu/cgi-bin/hgGateway))\n",
    "\n",
    "![image.png](img/02_007.png)"
   ]
  },
  {
   "attachments": {},
   "cell_type": "markdown",
   "metadata": {},
   "source": [
    "## Read Alignment\n",
    "\n",
    "#### Tophat: splice aware mapper\n",
    "Need to specify inner distance b/w paired end reads\n",
    "\n",
    "* SAM file: alignment/human readable\n",
    "* BAM file: alignment/machine only\n",
    "* Index file:\n",
    "    * To view BAM in IGV\n",
    "    * Only meta data, no actual data\n",
    "* BED file: splice junction & insertion and deletion"
   ]
  },
  {
   "attachments": {},
   "cell_type": "markdown",
   "metadata": {},
   "source": [
    "## Transcript Assembly & Quantitation\n",
    "\n",
    "#### Cufflink\n",
    "* assemble the aligned reads into transcripts and quantitate transcript levels \n",
    "* output files including \n",
    "    * [assembled transcripts file](http://mblab.wustl.edu/GTF22.html) ([gtf format](https://en.wikipedia.org/wiki/Gene_transfer_format)) => lists the coordinates of each transcript and its component exons\n",
    "        * table head ```<seqname> <source> <feature> <start> <end> <score> <strand> <frame> [attributes] [comments]```\n",
    "    * transcript expression file => gives the normalized expression level of each transcript in FPKM \n",
    "    * gene expression file that gives => normalized expression level of each gene (sum of all transcripts for that gene) in FPKM "
   ]
  },
  {
   "attachments": {},
   "cell_type": "markdown",
   "metadata": {},
   "source": [
    "#### FPKM: Fragments per kilobase of exon per million reads mapped\n",
    "\n",
    "Explaination [video, RPKM vs FPKM vs TPM](https://www.rna-seqblog.com/rpkm-fpkm-and-tpm-clearly-explained/)\n",
    "* **million** is the unit calculating fragements/reads\n",
    "* A **f**ragment could be a paired-end sequence (2 **r**eads)\n",
    "* number of fragements < number of reads\n",
    "* TPM: normalize the **gene lenth** first, then replica, just in different order from RMKM/FPKM\n",
    "![image.png](img/02_008.png)"
   ]
  },
  {
   "cell_type": "markdown",
   "metadata": {},
   "source": [
    "* FeatureCount: raw integer read counts \n",
    "* assemble the aligned reads into transcripts and quantitate transcript levels \n",
    "* output files including \n",
    "    * 3-column file => gene name, number of reads mapped to that gene, length of the gene. \n"
   ]
  }
 ],
 "metadata": {
  "kernelspec": {
   "display_name": "Python 3",
   "language": "python",
   "name": "python3"
  },
  "language_info": {
   "codemirror_mode": {
    "name": "ipython",
    "version": 3
   },
   "file_extension": ".py",
   "mimetype": "text/x-python",
   "name": "python",
   "nbconvert_exporter": "python",
   "pygments_lexer": "ipython3",
   "version": "3.7.4"
  }
 },
 "nbformat": 4,
 "nbformat_minor": 2
}
