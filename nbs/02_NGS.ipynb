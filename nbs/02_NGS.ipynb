{
 "cells": [
  {
   "cell_type": "markdown",
   "metadata": {},
   "source": [
    "### NGS pipeline"
   ]
  },
  {
   "cell_type": "markdown",
   "metadata": {},
   "source": [
    "[session 2 PPT](ppt/session_02.pptx)"
   ]
  },
  {
   "cell_type": "markdown",
   "metadata": {},
   "source": [
    "### RNA\n",
    "\n",
    "> Tuxedo package\n",
    "\n",
    "* Sequencing => reads\n",
    "* Quality control, trimming the too-shorts (put in args)\n",
    "* Read alignment\n",
    "    * TopHat alignment\n",
    "    * Reference Genome\n",
    "* Transcript Assembly & quantitation\n",
    "    * Cufflinks => cuffdiff\n",
    "    * feature Counts\n",
    "* differential expression\n"
   ]
  }
 ],
 "metadata": {
  "kernelspec": {
   "display_name": "Python 3",
   "language": "python",
   "name": "python3"
  },
  "language_info": {
   "codemirror_mode": {
    "name": "ipython",
    "version": 3
   },
   "file_extension": ".py",
   "mimetype": "text/x-python",
   "name": "python",
   "nbconvert_exporter": "python",
   "pygments_lexer": "ipython3",
   "version": "3.7.4"
  }
 },
 "nbformat": 4,
 "nbformat_minor": 2
}
